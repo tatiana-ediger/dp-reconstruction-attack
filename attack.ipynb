{
 "cells": [
  {
   "cell_type": "code",
   "execution_count": 1,
   "metadata": {},
   "outputs": [],
   "source": [
    "import numpy as np\n",
    "import matplotlib.pyplot as plt\n",
    "import seaborn as sns"
   ]
  },
  {
   "cell_type": "code",
   "execution_count": 2,
   "metadata": {},
   "outputs": [],
   "source": [
    "def initialize_data(n):\n",
    "    \"\"\"Function that generates and returns x, z, a given n\"\"\"\n",
    "    x = np.random.randint(0,2,n)\n",
    "    w = np.random.randint(0, 1, n)\n",
    "    for i in range(len(x)):\n",
    "        if np.random.random() < (2/3):\n",
    "            w[i] = x[i]\n",
    "        else:\n",
    "            w[i] = 1-x[i]\n",
    "        \n",
    "    z = np.random.randint(0,2,n)\n",
    "    a = []\n",
    "    for i in range(n):\n",
    "        a.append(sum(x[:i+1]) + z[i])\n",
    "    return (w, x, z, a)"
   ]
  },
  {
   "cell_type": "code",
   "execution_count": 3,
   "metadata": {},
   "outputs": [],
   "source": [
    "def run_algorithm(a, w=None):\n",
    "    \"\"\"Runs the algorithm with given a, and w if given\"\"\"\n",
    "    n = len(a)\n",
    "    x_sum = [-1]*n\n",
    "    x = [-1]*n\n",
    "    z = [-1]*n\n",
    "    \n",
    "    \"\"\"If the first value in a is 0, the first x is zero\"\"\"\n",
    "    if a[0] == 0:\n",
    "        x_sum[0] = 0\n",
    "        x[0] = 0\n",
    "        z[0] = 0\n",
    "        \n",
    "    \"\"\"If the first value in a is 0, the first x is zero\"\"\"\n",
    "    if a[0] == 2:\n",
    "        x_sum[0] = 1\n",
    "        x[0] = 1\n",
    "        z[0] = 1\n",
    "        \n",
    "    \"\"\"Loop through the list going forwards to identify patterns and obtain information about the x sum's so far\"\"\"\n",
    "    for i in range(1, n):\n",
    "        \n",
    "        \"\"\"The case where a value in a is followed by a smaller value, e.g (6 5)\"\"\"\n",
    "        if a[i] < a[i-1]:\n",
    "            x_sum[i] = a[i]\n",
    "            x_sum[i-1] = a[i]\n",
    "            z[i-1] = 1\n",
    "            z[i] = 0\n",
    "            backstep = i-1\n",
    "            \"\"\"When we see the pattern (6 6 6 5), we know that since 5 follows 6, the corresponding x_sum values must be 5, 5, \n",
    "            and furthermore, each of the previous 6's must also be 5\"\"\"\n",
    "            while True:\n",
    "                if a[backstep] == a[i-1]:\n",
    "                    x_sum[backstep] = x_sum[i-1]\n",
    "                    z[backstep] = 1\n",
    "                else:\n",
    "                    break\n",
    "                backstep -= 1\n",
    "                \n",
    "        \"\"\"The case where the difference in values of a is 2, e.g (2,4)\"\"\"\n",
    "        if a[i] - a[i-1] == 2:\n",
    "            x_sum[i] = a[i] - 1\n",
    "            x_sum[i-1] = a[i-1]\n",
    "            z[i-1] = 0\n",
    "            z[i] = 1\n",
    "            backstep = i-1\n",
    "            \"\"\"When we see the pattern (1 2 3 5), we know that xsum_2=3, xsum_3=4, and we also know that xsum_0=1, xsum_2=2\"\"\"\n",
    "            while True:\n",
    "                if a[backstep] - a[backstep-1] == 1:\n",
    "                    x_sum[backstep - 1] = x_sum[backstep] - 1\n",
    "                    z[backstep] = 0\n",
    "                else:\n",
    "                    break\n",
    "                backstep -= 1\n",
    "\n",
    "        if z[i-1] == 1 and (a[i] - a[i-1]) == 1:\n",
    "            x_sum[i] = x_sum[i-1] + 1\n",
    "            z[i] = 1\n",
    "        if z[i-1] == 0 and (a[i] - a[i-1]) == 0:\n",
    "            x_sum[i] = x_sum[i-1]\n",
    "            z[i] = 0\n",
    "        if w is not None:\n",
    "            if x_sum[i] == -1:\n",
    "                x_sum[i] = x_sum[i-1] + w[i]\n",
    "        \n",
    "    for i in range(1, n):\n",
    "        \"\"\"using what we know from x_sum, we can figure out corresponding x's\"\"\"\n",
    "        if (x_sum[i-1] != -1) and (x_sum[i] != -1):\n",
    "            if x_sum[i] == x_sum[i-1]:\n",
    "                x[i] = 0\n",
    "            else:\n",
    "                x[i] = 1\n",
    "    \n",
    "    for i in range(n):\n",
    "        if x[i] == -1:\n",
    "            \"\"\"if the function is passed w, uses this to fill in the remaining x's that cannot be deduced\"\"\"\n",
    "            if w is not None:\n",
    "                x[i] = w[i]\n",
    "\n",
    "            \"\"\"for all the x's that have not been deduced, assumes that if a increments by 1, the corresponding x is 1, 0 otherwise\"\"\"\n",
    "            if a[i-1] < a[i]:\n",
    "                x[i] = 1\n",
    "            else:\n",
    "                x[i] = 0\n",
    "\n",
    "    return np.array(x)"
   ]
  },
  {
   "cell_type": "code",
   "execution_count": 4,
   "metadata": {},
   "outputs": [],
   "source": [
    "def find_acc(true_x, predicted_x):\n",
    "    \"\"\"Finds the proportion of predicted x's that are correct; i.e the accuracy of the prediction\"\"\"\n",
    "    return np.mean(true_x == predicted_x)"
   ]
  },
  {
   "cell_type": "code",
   "execution_count": 5,
   "metadata": {},
   "outputs": [
    {
     "data": {
      "text/plain": [
       "(0.7788999999999999, 0.011004090148667463)"
      ]
     },
     "execution_count": 5,
     "metadata": {},
     "output_type": "execute_result"
    }
   ],
   "source": [
    "def run_experiment(n):\n",
    "    \"\"\"Given n, generates vectors x, a, runs the attack and returns the accuracy\"\"\"\n",
    "    accs = []\n",
    "    for i in range(20):\n",
    "        _, true_x,z,a = initialize_data(n)\n",
    "        predicted_x = run_algorithm(a)\n",
    "        acc = find_acc(true_x, predicted_x)\n",
    "        accs.append(acc)\n",
    "    mean_acc = np.mean(accs)\n",
    "    std_acc = np.std(accs)\n",
    "    # print(f\"mean = {mean_acc}, std = {std_acc}\")\n",
    "    return mean_acc, std_acc\n",
    "\n",
    "run_experiment(2000)"
   ]
  },
  {
   "cell_type": "code",
   "execution_count": 6,
   "metadata": {},
   "outputs": [
    {
     "data": {
      "text/plain": [
       "(0.8059000000000001, 0.02827348581268322)"
      ]
     },
     "execution_count": 6,
     "metadata": {},
     "output_type": "execute_result"
    }
   ],
   "source": [
    "def run_experiment_with_prior(n):\n",
    "    \"\"\"Given n, generates vectors x, a, w and runs the attack\"\"\"\n",
    "    accs = []\n",
    "    for i in range(20):\n",
    "        w,true_x,z,a = initialize_data(n)\n",
    "        predicted_x = run_algorithm(a, w)\n",
    "        acc = find_acc(true_x, predicted_x)\n",
    "        accs.append(acc)\n",
    "    mean_acc = np.mean(accs)\n",
    "    std_acc = np.std(accs)\n",
    "#     print(f\"mean = {mean_acc:.3f}, std = {std_acc:.3f}\")\n",
    "    return mean_acc, std_acc\n",
    "\n",
    "run_experiment_with_prior(500)"
   ]
  },
  {
   "cell_type": "code",
   "execution_count": 8,
   "metadata": {},
   "outputs": [
    {
     "name": "stdout",
     "output_type": "stream",
     "text": [
      "on iteration 100\n",
      ".\n",
      "on iteration 500\n",
      ".\n",
      "on iteration 1000\n",
      ".\n",
      "on iteration 5000\n",
      ".\n",
      "on iteration 50000\n",
      ".\n",
      "mean accuracies of attack run without w: [0.8, 0.7718, 0.77785, 0.77789, 0.778219]\n",
      "standard deviation of accuracies of attack run without w: [0.035496478698597685, 0.021127233609727517, 0.014107710657651026, 0.005539124479554492, 0.0018860379105415624]\n",
      "mean accuracies of attack run with w: [0.772, 0.7979, 0.80465, 0.80555, 0.8061659999999999]\n",
      "standard deviation accuracies of attack run with w: [0.03944616584663205, 0.021094786085665816, 0.011028485843487281, 0.006317871477008697, 0.0018566108908438456]\n"
     ]
    }
   ],
   "source": [
    "n_values = [100,500,1000,5000,50000]\n",
    "accuracies_without_w_mean = []\n",
    "accuracies_with_w_mean = []\n",
    "accuracies_without_w_std = []\n",
    "accuracies_with_w_std = []\n",
    "for n in n_values:\n",
    "    print(f\"on iteration {n}\")\n",
    "    accuracy_without_w_mean, accuracy_without_w_std = run_experiment(n)\n",
    "    print('.')\n",
    "    accuracy_with_w_mean, accuracy_with_w_std = run_experiment_with_prior(n)\n",
    "    accuracies_without_w_mean.append(accuracy_without_w_mean)\n",
    "    accuracies_with_w_mean.append(accuracy_with_w_mean)\n",
    "    accuracies_without_w_std.append(accuracy_without_w_std)\n",
    "    accuracies_with_w_std.append(accuracy_with_w_std)\n",
    "print(f\"mean accuracies of attack run without w: {accuracies_without_w_mean}\")\n",
    "print(f\"standard deviation of accuracies of attack run without w: {accuracies_without_w_std}\")\n",
    "print(f\"mean accuracies of attack run with w: {accuracies_with_w_mean}\")\n",
    "print(f\"standard deviation accuracies of attack run with w: {accuracies_with_w_std}\")"
   ]
  },
  {
   "cell_type": "code",
   "execution_count": 11,
   "metadata": {},
   "outputs": [
    {
     "data": {
      "image/png": "[encoded data removed]",
      "text/plain": [
       "<Figure size 432x288 with 1 Axes>"
      ]
     },
     "metadata": {
      "needs_background": "light"
     },
     "output_type": "display_data"
    }
   ],
   "source": [
    "n_values = ['100','500','1000','5000','50000']\n",
    "fig = plt.figure()\n",
    "ax = fig.add_axes([0,0,1,1])\n",
    "ax.bar(n_values, accuracies_with_w_mean)\n",
    "ax.set_ylabel('Accuracies')\n",
    "ax.set_xlabel('n values')\n",
    "ax.set_title('Accuracies for Algorithm With w')\n",
    "plt.ylim((0,1))\n",
    "plt.show()"
   ]
  },
  {
   "cell_type": "code",
   "execution_count": 12,
   "metadata": {},
   "outputs": [
    {
     "data": {
      "image/png": "[encoded data removed]",
      "text/plain": [
       "<Figure size 432x288 with 1 Axes>"
      ]
     },
     "metadata": {
      "needs_background": "light"
     },
     "output_type": "display_data"
    }
   ],
   "source": [
    "n_values = ['100','500','1000','5000','50000']\n",
    "fig = plt.figure()\n",
    "ax = fig.add_axes([0,0,1,1])\n",
    "ax.bar(n_values, accuracies_without_w_mean, color='lightblue')\n",
    "ax.set_ylabel('Accuracies')\n",
    "ax.set_xlabel('n values')\n",
    "ax.set_title('Accuracies for Algorithm Without w')\n",
    "plt.ylim((0,1))\n",
    "plt.show()"
   ]
  },
  {
   "cell_type": "code",
   "execution_count": 10,
   "metadata": {},
   "outputs": [
    {
     "data": {
      "image/png": "[encoded data removed]",
      "text/plain": [
       "<Figure size 432x288 with 1 Axes>"
      ]
     },
     "metadata": {
      "needs_background": "light"
     },
     "output_type": "display_data"
    }
   ],
   "source": [
    "n_values = ['0', '100','500','1000','5000','50000']\n",
    "fig = plt.figure()\n",
    "x = np.arange(5)\n",
    "ax = fig.add_axes([0,0,1,1])\n",
    "ax.bar(x+0.2, accuracies_with_w_mean, width=0.4, label='with w')\n",
    "ax.bar(x-0.2, accuracies_without_w_mean, color='lightblue', width=0.4, label='without w')\n",
    "ax.set_ylabel('Accuracies')\n",
    "ax.set_xlabel('n values')\n",
    "ax.set_title('Accuracies for algorithm vs. n')\n",
    "ax.set_xticklabels(n_values)\n",
    "plt.legend(loc=\"upper left\")\n",
    "plt.ylim((0,1))\n",
    "plt.show()"
   ]
  },
  {
   "cell_type": "code",
   "execution_count": 302,
   "metadata": {},
   "outputs": [
    {
     "data": {
      "image/png": "[encoded data removed]",
      "text/plain": [
       "<Figure size 432x288 with 1 Axes>"
      ]
     },
     "metadata": {
      "needs_background": "light"
     },
     "output_type": "display_data"
    }
   ],
   "source": [
    "n_values = [100,500,1000,5000,50000]\n",
    "fig = plt.figure()\n",
    "ax = fig.add_axes([0,0,1,1])\n",
    "ax.plot(n_values, accuracies_with_w, label='with w')\n",
    "ax.plot(n_values, accuracies_without_w, color='lightblue', label='without w')\n",
    "ax.set_ylabel('Accuracies')\n",
    "ax.set_xlabel('n values')\n",
    "ax.set_title('Accuracies for algorithm vs. n')\n",
    "plt.legend(loc=\"upper left\")\n",
    "plt.ylim((0,1))\n",
    "plt.xlim((0,50000))\n",
    "plt.show()"
   ]
  },
  {
   "cell_type": "code",
   "execution_count": null,
   "metadata": {},
   "outputs": [],
   "source": []
  }
 ],
 "metadata": {
  "kernelspec": {
   "display_name": "Python 3",
   "language": "python",
   "name": "python3"
  },
  "language_info": {
   "codemirror_mode": {
    "name": "ipython",
    "version": 3
   },
   "file_extension": ".py",
   "mimetype": "text/x-python",
   "name": "python",
   "nbconvert_exporter": "python",
   "pygments_lexer": "ipython3",
   "version": "3.7.3"
  }
 },
 "nbformat": 4,
 "nbformat_minor": 4
}
